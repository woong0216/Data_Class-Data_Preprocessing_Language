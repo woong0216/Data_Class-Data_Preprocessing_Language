{
 "cells": [
  {
   "cell_type": "markdown",
   "metadata": {},
   "source": [
    "### Lab: 어떤 종류의 학생인지 맞히기"
   ]
  },
  {
   "cell_type": "code",
   "execution_count": 1,
   "metadata": {},
   "outputs": [
    {
     "name": "stdout",
     "output_type": "stream",
     "text": [
      "당신이 태어난 연도를 입력하세요.\n",
      "1982\n",
      "학생이 아닙니다.\n"
     ]
    }
   ],
   "source": [
    "born_year = int(input('당신이 태어난 연도를 입력하세요.\\n'))\n",
    "age = (2020-born_year+1)\n",
    "if age <= 26 and age >= 20 :\n",
    "    print('대학생')\n",
    "elif age < 20 and age >= 17:\n",
    "    print('고등학생')\n",
    "elif age < 17 and age >= 14:\n",
    "    print('중학생')\n",
    "elif age < 14 and age >= 8:\n",
    "    print('초등학생')\n",
    "else :\n",
    "    print('학생이 아닙니다.')"
   ]
  },
  {
   "cell_type": "markdown",
   "metadata": {},
   "source": [
    "### Lab: 구구단 계산기"
   ]
  },
  {
   "cell_type": "code",
   "execution_count": 2,
   "metadata": {},
   "outputs": [
    {
     "name": "stdout",
     "output_type": "stream",
     "text": [
      "구구단 몇 단을 계산할까?\n",
      "5\n",
      "구구단 5단을 계산한다.\n",
      "5 * 1 = 5\n",
      "5 * 2 = 10\n",
      "5 * 3 = 15\n",
      "5 * 4 = 20\n",
      "5 * 5 = 25\n",
      "5 * 6 = 30\n",
      "5 * 7 = 35\n",
      "5 * 8 = 40\n",
      "5 * 9 = 45\n"
     ]
    }
   ],
   "source": [
    "n_dan = int(input('구구단 몇 단을 계산할까?\\n'))\n",
    "print(f'구구단 {n_dan}단을 계산한다.')\n",
    "for x in range(1,10) :\n",
    "    print(f'{n_dan} * {x} = {n_dan*x}')"
   ]
  },
  {
   "cell_type": "markdown",
   "metadata": {},
   "source": [
    "### Lab: 십진수를 이진수로 변환"
   ]
  },
  {
   "cell_type": "code",
   "execution_count": 3,
   "metadata": {},
   "outputs": [
    {
     "name": "stdout",
     "output_type": "stream",
     "text": [
      "십진수를 입력하시요.\n",
      "10\n",
      "십진수인 10의 이진수는 다음과 같습니다\n",
      "1010\n"
     ]
    }
   ],
   "source": [
    "ten_digit = int(input('십진수를 입력하시요.\\n'))\n",
    "ten_digit_1 = ten_digit    # 입력한 십진수 값\n",
    "two_digit = []      # 이진수 값 리스트 배열\n",
    "\n",
    "while ten_digit > 0:\n",
    "    two_digit.append(ten_digit % 2)\n",
    "    ten_digit = ten_digit // 2\n",
    "two_digit = two_digit[::-1]\n",
    "print(f'십진수인 {ten_digit_1}의 이진수는 다음과 같습니다')\n",
    "\n",
    "\n",
    "two_digit_1 = ''      # 빈셀은 이렇게 해도 되나요...?\n",
    "for x in two_digit:\n",
    "    two_digit_1 = str(two_digit_1) + str(x)\n",
    "print(two_digit_1) # 이진수 값 표현"
   ]
  },
  {
   "cell_type": "code",
   "execution_count": 4,
   "metadata": {},
   "outputs": [],
   "source": [
    "from random import *"
   ]
  },
  {
   "cell_type": "markdown",
   "metadata": {},
   "source": [
    "### Lab: 숫자 찾기 게임"
   ]
  },
  {
   "cell_type": "code",
   "execution_count": 5,
   "metadata": {},
   "outputs": [
    {
     "name": "stdout",
     "output_type": "stream",
     "text": [
      "숫자를 맞혀 보세요. (1~100)\n",
      "50\n",
      "숫자가 너무 작습니다.\n",
      "70\n",
      "숫자가 너무 작습니다.\n",
      "80\n",
      "숫자가 너무 큽니다.\n",
      "75\n",
      "숫자가 너무 큽니다.\n",
      "74\n",
      "숫자가 너무 큽니다.\n",
      "72\n",
      "숫자가 너무 큽니다.\n",
      "71\n",
      "정답입니다. 입력한 숫자는 71입니다.\n"
     ]
    }
   ],
   "source": [
    "quiz_answer = randint(1,100)\n",
    "print('숫자를 맞혀 보세요. (1~100)')\n",
    "while True :\n",
    "    predict_number = int(input())\n",
    "    if predict_number == quiz_answer :\n",
    "        print(f'정답입니다. 입력한 숫자는 {quiz_answer}입니다.')\n",
    "        break;\n",
    "    elif predict_number > quiz_answer :\n",
    "        print('숫자가 너무 큽니다.')\n",
    "    else :\n",
    "        print('숫자가 너무 작습니다.')"
   ]
  }
 ],
 "metadata": {
  "kernelspec": {
   "display_name": "Python 3",
   "language": "python",
   "name": "python3"
  },
  "language_info": {
   "codemirror_mode": {
    "name": "ipython",
    "version": 3
   },
   "file_extension": ".py",
   "mimetype": "text/x-python",
   "name": "python",
   "nbconvert_exporter": "python",
   "pygments_lexer": "ipython3",
   "version": "3.7.6"
  },
  "toc": {
   "base_numbering": 1,
   "nav_menu": {},
   "number_sections": true,
   "sideBar": true,
   "skip_h1_title": false,
   "title_cell": "Table of Contents",
   "title_sidebar": "Contents",
   "toc_cell": false,
   "toc_position": {},
   "toc_section_display": true,
   "toc_window_display": false
  }
 },
 "nbformat": 4,
 "nbformat_minor": 2
}
