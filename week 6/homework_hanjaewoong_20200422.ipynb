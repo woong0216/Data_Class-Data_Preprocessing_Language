{
 "cells": [
  {
   "cell_type": "markdown",
   "metadata": {},
   "source": [
    "## Lab : 텍스트 마이닝 프로그램 ##\n",
    "> Counter 모듈 사용"
   ]
  },
  {
   "cell_type": "markdown",
   "metadata": {},
   "source": [
    "### 텍스트 출력"
   ]
  },
  {
   "cell_type": "code",
   "execution_count": 3,
   "metadata": {},
   "outputs": [],
   "source": [
    "text = \"A press release is the quickest and easiest way to get free publicity. If well written, a press release can result in multiple published articles about your firm and its products. And that can mean new prospects contacting you asking you to sell to them. …\"\n",
    "text = text.lower().split()"
   ]
  },
  {
   "cell_type": "markdown",
   "metadata": {},
   "source": [
    "### Counter 사용"
   ]
  },
  {
   "cell_type": "code",
   "execution_count": 2,
   "metadata": {},
   "outputs": [
    {
     "data": {
      "text/plain": [
       "Counter({'a': 2,\n",
       "         'press': 2,\n",
       "         'release': 2,\n",
       "         'is': 1,\n",
       "         'the': 1,\n",
       "         'quickest': 1,\n",
       "         'and': 3,\n",
       "         'easiest': 1,\n",
       "         'way': 1,\n",
       "         'to': 3,\n",
       "         'get': 1,\n",
       "         'free': 1,\n",
       "         'publicity.': 1,\n",
       "         'if': 1,\n",
       "         'well': 1,\n",
       "         'written,': 1,\n",
       "         'can': 2,\n",
       "         'result': 1,\n",
       "         'in': 1,\n",
       "         'multiple': 1,\n",
       "         'published': 1,\n",
       "         'articles': 1,\n",
       "         'about': 1,\n",
       "         'your': 1,\n",
       "         'firm': 1,\n",
       "         'its': 1,\n",
       "         'products.': 1,\n",
       "         'that': 1,\n",
       "         'mean': 1,\n",
       "         'new': 1,\n",
       "         'prospects': 1,\n",
       "         'contacting': 1,\n",
       "         'you': 2,\n",
       "         'asking': 1,\n",
       "         'sell': 1,\n",
       "         'them.': 1,\n",
       "         '…': 1})"
      ]
     },
     "execution_count": 2,
     "metadata": {},
     "output_type": "execute_result"
    }
   ],
   "source": [
    "from collections import Counter\n",
    "count_text=Counter(text)\n",
    "count_text"
   ]
  },
  {
   "cell_type": "code",
   "execution_count": 3,
   "metadata": {},
   "outputs": [
    {
     "name": "stdout",
     "output_type": "stream",
     "text": [
      "[('a', 2), ('about', 1), ('and', 3), ('articles', 1), ('asking', 1), ('can', 2), ('contacting', 1), ('easiest', 1), ('firm', 1), ('free', 1), ('get', 1), ('if', 1), ('in', 1), ('is', 1), ('its', 1), ('mean', 1), ('multiple', 1), ('new', 1), ('press', 2), ('products.', 1), ('prospects', 1), ('publicity.', 1), ('published', 1), ('quickest', 1), ('release', 2), ('result', 1), ('sell', 1), ('that', 1), ('the', 1), ('them.', 1), ('to', 3), ('way', 1), ('well', 1), ('written,', 1), ('you', 2), ('your', 1), ('…', 1)]\n"
     ]
    }
   ],
   "source": [
    "def sort_dictionary(dic):\n",
    "    return sorted(dic.items(), key=lambda x:x[0])\n",
    "print(sort_dictionary(count_text))"
   ]
  },
  {
   "cell_type": "markdown",
   "metadata": {},
   "source": [
    "### defaultdict 사용"
   ]
  },
  {
   "cell_type": "code",
   "execution_count": 4,
   "metadata": {},
   "outputs": [
    {
     "name": "stdout",
     "output_type": "stream",
     "text": [
      "dict_items([('a', [2]), ('about', [1]), ('and', [3]), ('articles', [1]), ('asking', [1]), ('can', [2]), ('contacting', [1]), ('easiest', [1]), ('firm', [1]), ('free', [1]), ('get', [1]), ('if', [1]), ('in', [1]), ('is', [1]), ('its', [1]), ('mean', [1]), ('multiple', [1]), ('new', [1]), ('press', [2]), ('products.', [1]), ('prospects', [1]), ('publicity.', [1]), ('published', [1]), ('quickest', [1]), ('release', [2]), ('result', [1]), ('sell', [1]), ('that', [1]), ('the', [1]), ('them.', [1]), ('to', [3]), ('way', [1]), ('well', [1]), ('written,', [1]), ('you', [2]), ('your', [1]), ('…', [1])])\n"
     ]
    }
   ],
   "source": [
    "from collections import defaultdict\n",
    "sort = sort_dictionary(count_text)\n",
    "d = defaultdict(list)\n",
    "for k,v in sort:\n",
    "    d[k].append(v)\n",
    "    \n",
    "print(d.items())\n",
    "default_sort= d.items()"
   ]
  },
  {
   "cell_type": "markdown",
   "metadata": {},
   "source": [
    "### OrderedDict 사용"
   ]
  },
  {
   "cell_type": "code",
   "execution_count": 5,
   "metadata": {},
   "outputs": [
    {
     "name": "stdout",
     "output_type": "stream",
     "text": [
      "and 3\n",
      "to 3\n",
      "a 2\n",
      "press 2\n",
      "release 2\n",
      "can 2\n",
      "you 2\n",
      "is 1\n",
      "the 1\n",
      "quickest 1\n",
      "easiest 1\n",
      "way 1\n",
      "get 1\n",
      "free 1\n",
      "publicity. 1\n",
      "if 1\n",
      "well 1\n",
      "written, 1\n",
      "result 1\n",
      "in 1\n",
      "multiple 1\n",
      "published 1\n",
      "articles 1\n",
      "about 1\n",
      "your 1\n",
      "firm 1\n",
      "its 1\n",
      "products. 1\n",
      "that 1\n",
      "mean 1\n",
      "new 1\n",
      "prospects 1\n",
      "contacting 1\n",
      "asking 1\n",
      "sell 1\n",
      "them. 1\n",
      "… 1\n"
     ]
    }
   ],
   "source": [
    "from collections import OrderedDict\n",
    "def sort_by_key(t):\n",
    "    return t[1]\n",
    "for k, v in OrderedDict(sorted(count_text.items(), key=sort_by_key, reverse=True)).items():\n",
    "    print(k, v)"
   ]
  },
  {
   "cell_type": "markdown",
   "metadata": {},
   "source": [
    "## Lab : 1~10까지의 정수를 항목으로 갖는 리스트 객체에서 filter 함수와 람다식을 이용해 짝수만을 선택한 후, map 함수와 람다식을 이용해 항목의 제곱 값을 갖는 리스트를 반환하는 프로그램을 작성하시오."
   ]
  },
  {
   "cell_type": "markdown",
   "metadata": {},
   "source": [
    "### filter 함수와 람다식을 이용해 짝수만을 선택한 함수"
   ]
  },
  {
   "cell_type": "code",
   "execution_count": 6,
   "metadata": {},
   "outputs": [
    {
     "name": "stdout",
     "output_type": "stream",
     "text": [
      "[2, 4, 6, 8, 10]\n"
     ]
    }
   ],
   "source": [
    "list_number = [1, 2, 3, 4, 5, 6, 7, 8, 9, 10]\n",
    "even_number = filter(lambda x : x%2==0, list_number)\n",
    "list_even_number = (list(even_number))\n",
    "print(list_even_number)"
   ]
  },
  {
   "cell_type": "markdown",
   "metadata": {},
   "source": [
    "### map 함수와 람다식을 이용해 항목의 제곱 값을 갖는 리스트로 변환"
   ]
  },
  {
   "cell_type": "code",
   "execution_count": 7,
   "metadata": {},
   "outputs": [
    {
     "name": "stdout",
     "output_type": "stream",
     "text": [
      "[4, 16, 36, 64, 100]\n"
     ]
    }
   ],
   "source": [
    "f = lambda x:x**2\n",
    "print(list(map(lambda x:x**2,list_even_number)))"
   ]
  },
  {
   "cell_type": "markdown",
   "metadata": {},
   "source": [
    "## Lab : 다음의 결과와 같이 'abcdef' 문자열의 각각의 문자를 키로 하고 0~5 사이의 정수를 값으로 하는 딕셔너리 객체를 생성하고, 이 딕셔너리 객체의 키와 값 정보를 출력하는 프로그램을 작성하십시오."
   ]
  },
  {
   "cell_type": "code",
   "execution_count": 8,
   "metadata": {},
   "outputs": [
    {
     "name": "stdout",
     "output_type": "stream",
     "text": [
      "{0: 'a', 1: 'b', 2: 'c', 3: 'd', 4: 'e', 5: 'f'}\n"
     ]
    }
   ],
   "source": [
    "text = 'abcdef'\n",
    "list_text = list(text)\n",
    "aa_text = []\n",
    "for x in enumerate(list_text):\n",
    "    aa_text.append(x)\n",
    "\n",
    "dict_test = dict(aa_text)\n",
    "print(dict_test)"
   ]
  },
  {
   "cell_type": "code",
   "execution_count": 9,
   "metadata": {},
   "outputs": [
    {
     "name": "stdout",
     "output_type": "stream",
     "text": [
      "{'a': 0, 'b': 1, 'c': 2, 'd': 3, 'e': 4, 'f': 5}\n"
     ]
    }
   ],
   "source": [
    "dict_reverse = {}\n",
    "for k,v in dict_test.items():\n",
    "    dict_reverse[v] = k\n",
    "print(dict_reverse)  "
   ]
  },
  {
   "cell_type": "markdown",
   "metadata": {},
   "source": [
    "## Lab : test_list = ['younghoon', 'euan','kyunghye'] 위와 같은 list가 있을 때, 각 이름을 key로 하고 index를 value로 하는 dictionary를 만드시오."
   ]
  },
  {
   "cell_type": "code",
   "execution_count": 10,
   "metadata": {},
   "outputs": [
    {
     "name": "stdout",
     "output_type": "stream",
     "text": [
      "{0: 'younghoon', 1: 'euan', 2: 'kyunghye'}\n"
     ]
    }
   ],
   "source": [
    "test_list = ['younghoon', 'euan', 'kyunghye']\n",
    "test_list1 = []\n",
    "\n",
    "for x in enumerate(test_list):\n",
    "    test_list1.append(x)\n",
    "    \n",
    "dict_test = dict(test_list1)\n",
    "print(dict_test)"
   ]
  },
  {
   "cell_type": "code",
   "execution_count": 11,
   "metadata": {},
   "outputs": [
    {
     "name": "stdout",
     "output_type": "stream",
     "text": [
      "{'younghoon': 0, 'euan': 1, 'kyunghye': 2}\n"
     ]
    }
   ],
   "source": [
    "dict_reverse = {}\n",
    "for k,v in dict_test.items():\n",
    "    dict_reverse[v] = k\n",
    "print(dict_reverse)    "
   ]
  }
 ],
 "metadata": {
  "kernelspec": {
   "display_name": "Python 3",
   "language": "python",
   "name": "python3"
  },
  "language_info": {
   "codemirror_mode": {
    "name": "ipython",
    "version": 3
   },
   "file_extension": ".py",
   "mimetype": "text/x-python",
   "name": "python",
   "nbconvert_exporter": "python",
   "pygments_lexer": "ipython3",
   "version": "3.7.6"
  },
  "toc": {
   "base_numbering": 1,
   "nav_menu": {},
   "number_sections": true,
   "sideBar": true,
   "skip_h1_title": false,
   "title_cell": "Table of Contents",
   "title_sidebar": "Contents",
   "toc_cell": false,
   "toc_position": {},
   "toc_section_display": true,
   "toc_window_display": false
  }
 },
 "nbformat": 4,
 "nbformat_minor": 4
}
