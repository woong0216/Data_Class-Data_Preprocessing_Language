{
 "cells": [
  {
   "cell_type": "markdown",
   "metadata": {},
   "source": [
    "### Lab : 단어 카운팅"
   ]
  },
  {
   "cell_type": "code",
   "execution_count": 1,
   "metadata": {},
   "outputs": [
    {
     "data": {
      "text/plain": [
       "<function TextIOWrapper.close()>"
      ]
     },
     "execution_count": 1,
     "metadata": {},
     "output_type": "execute_result"
    }
   ],
   "source": [
    "f=open('yesterday.txt','r')\n",
    "yesterday_lyric = f.readlines()\n",
    "f.close"
   ]
  },
  {
   "cell_type": "code",
   "execution_count": 2,
   "metadata": {},
   "outputs": [
    {
     "name": "stdout",
     "output_type": "stream",
     "text": [
      "가사 중에서 원하는 단어가 몇 번 나오는지 알려드립니다.\n",
      "Yesterday\n",
      "Number of a Word 'Yesterday'9\n"
     ]
    }
   ],
   "source": [
    "letter = input('가사 중에서 원하는 단어가 몇 번 나오는지 알려드립니다.\\n')\n",
    "letter_count = str(yesterday_lyric).title().count(letter)\n",
    "print(f\"Number of a Word '{letter}'{letter_count}\")"
   ]
  },
  {
   "cell_type": "markdown",
   "metadata": {},
   "source": [
    "### Lab ###\n",
    "> 다음과 같이 등록된 학생의 이름을 출력하고, 이름을 입력하면 전화번호를 출력해주는딕셔너리 객체를 이용한 전화번호부 프로그램을 작성하십시오."
   ]
  },
  {
   "cell_type": "code",
   "execution_count": 3,
   "metadata": {},
   "outputs": [
    {
     "data": {
      "text/plain": [
       "{'홍길동': '010-1111-1111', '이순신': '010-1111-2222', '강감찬': '010-1111-3333'}"
      ]
     },
     "execution_count": 3,
     "metadata": {},
     "output_type": "execute_result"
    }
   ],
   "source": [
    "student_list = {'홍길동':'010-1111-1111','이순신':'010-1111-2222','강감찬':'010-1111-3333'}\n",
    "student_list"
   ]
  },
  {
   "cell_type": "code",
   "execution_count": 4,
   "metadata": {},
   "outputs": [
    {
     "name": "stdout",
     "output_type": "stream",
     "text": [
      "아래 학생들의 전화번호를 조회할 수 있습니다.\n",
      "홍길동\n",
      "이순신\n",
      "강감찬\n",
      "전화번호를 조회하고자 하는 학생의 이름을 입력하시오.\n",
      "\n",
      "강감찬\n",
      "강감찬:010-1111-3333\n"
     ]
    }
   ],
   "source": [
    "student_name = input('''아래 학생들의 전화번호를 조회할 수 있습니다.\n",
    "홍길동\n",
    "이순신\n",
    "강감찬\n",
    "전화번호를 조회하고자 하는 학생의 이름을 입력하시오.\\n\n",
    "''')\n",
    "student_phone = student_list[student_name]\n",
    "print(f'{student_name}:{student_phone}')"
   ]
  },
  {
   "cell_type": "markdown",
   "metadata": {},
   "source": [
    "### Lab ###\n",
    "> 리스트의 원소를 키로 하고, 그 원소의 length를 값으로 갖는 딕셔너리 객체를 생성하는 코드를 작성해봅시다.\n",
    "\n",
    "> 이 때 원소의 공백은 제거합니다.\n",
    "\n",
    "> 리스트 fruit는 다음과 같습니다. fruit = ['   apple    ','banana','  melon']"
   ]
  },
  {
   "cell_type": "code",
   "execution_count": 5,
   "metadata": {},
   "outputs": [],
   "source": [
    "fruit = ['   apple    ','banana','  melon']"
   ]
  },
  {
   "cell_type": "code",
   "execution_count": 6,
   "metadata": {},
   "outputs": [
    {
     "data": {
      "text/plain": [
       "['apple', 'banana', 'melon']"
      ]
     },
     "execution_count": 6,
     "metadata": {},
     "output_type": "execute_result"
    }
   ],
   "source": [
    "fruit_1=[]\n",
    "for x in fruit:\n",
    "    fruit_1.append(x.strip())\n",
    "fruit_1"
   ]
  },
  {
   "cell_type": "code",
   "execution_count": 7,
   "metadata": {},
   "outputs": [
    {
     "data": {
      "text/plain": [
       "{'apple': 5, 'banana': 6, 'melon': 5}"
      ]
     },
     "execution_count": 7,
     "metadata": {},
     "output_type": "execute_result"
    }
   ],
   "source": [
    "Dict_fruit = dict()\n",
    "for i in range(len(fruit_1)):\n",
    "    Dict_fruit[fruit_1[i]] = len(fruit_1[i])\n",
    "Dict_fruit"
   ]
  }
 ],
 "metadata": {
  "kernelspec": {
   "display_name": "Python 3",
   "language": "python",
   "name": "python3"
  },
  "language_info": {
   "codemirror_mode": {
    "name": "ipython",
    "version": 3
   },
   "file_extension": ".py",
   "mimetype": "text/x-python",
   "name": "python",
   "nbconvert_exporter": "python",
   "pygments_lexer": "ipython3",
   "version": "3.7.6"
  },
  "toc": {
   "base_numbering": 1,
   "nav_menu": {},
   "number_sections": true,
   "sideBar": true,
   "skip_h1_title": false,
   "title_cell": "Table of Contents",
   "title_sidebar": "Contents",
   "toc_cell": false,
   "toc_position": {},
   "toc_section_display": true,
   "toc_window_display": false
  }
 },
 "nbformat": 4,
 "nbformat_minor": 2
}
